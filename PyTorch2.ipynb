{
  "nbformat": 4,
  "nbformat_minor": 0,
  "metadata": {
    "colab": {
      "name": "PyTorch2.ipynb",
      "provenance": [],
      "collapsed_sections": [],
      "authorship_tag": "ABX9TyOvNbvN/HxaPfEHTDl62PMC",
      "include_colab_link": true
    },
    "kernelspec": {
      "name": "python3",
      "display_name": "Python 3"
    },
    "language_info": {
      "name": "python"
    }
  },
  "cells": [
    {
      "cell_type": "markdown",
      "metadata": {
        "id": "view-in-github",
        "colab_type": "text"
      },
      "source": [
        "<a href=\"https://colab.research.google.com/github/chaitravi-ce/PyTorch_Tutorials/blob/main/PyTorch2.ipynb\" target=\"_parent\"><img src=\"https://colab.research.google.com/assets/colab-badge.svg\" alt=\"Open In Colab\"/></a>"
      ]
    },
    {
      "cell_type": "code",
      "metadata": {
        "id": "2u3ZjGYE9QMj"
      },
      "source": [
        "import numpy as np\n",
        "import torch"
      ],
      "execution_count": null,
      "outputs": []
    },
    {
      "cell_type": "markdown",
      "metadata": {
        "id": "X9sxMD4cGKjo"
      },
      "source": [
        "# **Training From Scratch**"
      ]
    },
    {
      "cell_type": "markdown",
      "metadata": {
        "id": "ET80zuBcAH1V"
      },
      "source": [
        "## Training Data"
      ]
    },
    {
      "cell_type": "code",
      "metadata": {
        "id": "_LjLgjVb9Ym6"
      },
      "source": [
        "# Input (temp, rainfall, humidity)\n",
        "inputs = np.array([[73, 67, 43], \n",
        "                   [91, 88, 64], \n",
        "                   [87, 134, 58], \n",
        "                   [102, 43, 37], \n",
        "                   [69, 96, 70]], dtype='float32')"
      ],
      "execution_count": null,
      "outputs": []
    },
    {
      "cell_type": "code",
      "metadata": {
        "id": "nFbEeIokAL9M"
      },
      "source": [
        "# Targets (apples, oranges)\n",
        "targets = np.array([[56, 70], \n",
        "                    [81, 101], \n",
        "                    [119, 133], \n",
        "                    [22, 37], \n",
        "                    [103, 119]], dtype='float32')"
      ],
      "execution_count": null,
      "outputs": []
    },
    {
      "cell_type": "code",
      "metadata": {
        "colab": {
          "base_uri": "https://localhost:8080/"
        },
        "id": "bAOw0Y6nAOmZ",
        "outputId": "2c8516bf-9465-4587-ff9c-2c73cd05dff0"
      },
      "source": [
        "# Convert inputs and targets to tensors\n",
        "inputs = torch.from_numpy(inputs)\n",
        "targets = torch.from_numpy(targets)\n",
        "print(inputs.shape)\n",
        "print(targets.shape)"
      ],
      "execution_count": null,
      "outputs": [
        {
          "output_type": "stream",
          "text": [
            "torch.Size([5, 3])\n",
            "torch.Size([5, 2])\n"
          ],
          "name": "stdout"
        }
      ]
    },
    {
      "cell_type": "code",
      "metadata": {
        "colab": {
          "base_uri": "https://localhost:8080/"
        },
        "id": "ZXjm4i3SAUBY",
        "outputId": "ec5efb51-becc-4580-8036-1844910e362e"
      },
      "source": [
        "# Weights and biases\n",
        "w = torch.randn(2, 3, requires_grad=True)\n",
        "b = torch.randn(2, requires_grad=True)\n",
        "print(w)\n",
        "print(b)"
      ],
      "execution_count": null,
      "outputs": [
        {
          "output_type": "stream",
          "text": [
            "tensor([[-0.7207, -2.2588, -0.0666],\n",
            "        [ 1.2553, -0.7123, -0.4710]], requires_grad=True)\n",
            "tensor([ 0.5945, -0.3529], requires_grad=True)\n"
          ],
          "name": "stdout"
        }
      ]
    },
    {
      "cell_type": "code",
      "metadata": {
        "id": "qI2yQK3JAhx0"
      },
      "source": [
        "# @ represents matrix multiplication and .t() transpose\n",
        "\n",
        "def model(x):\n",
        "    return x @ w.t() + b"
      ],
      "execution_count": null,
      "outputs": []
    },
    {
      "cell_type": "code",
      "metadata": {
        "colab": {
          "base_uri": "https://localhost:8080/"
        },
        "id": "fL6jxjzuBVq2",
        "outputId": "cd28926c-620b-430f-d162-79e607edb3a8"
      },
      "source": [
        "# Generate predictions\n",
        "preds = model(inputs)\n",
        "print(preds)"
      ],
      "execution_count": null,
      "outputs": [
        {
          "output_type": "stream",
          "text": [
            "tensor([[-206.2175,   23.3082],\n",
            "        [-268.0228,   21.0542],\n",
            "        [-368.6463,  -13.9053],\n",
            "        [-172.5054,   79.6333],\n",
            "        [-270.6384,  -15.0873]], grad_fn=<AddBackward0>)\n"
          ],
          "name": "stdout"
        }
      ]
    },
    {
      "cell_type": "markdown",
      "metadata": {
        "id": "JPg9H7mlBemj"
      },
      "source": [
        "## Loss Function"
      ]
    },
    {
      "cell_type": "code",
      "metadata": {
        "id": "5RhHQKlyBZNk"
      },
      "source": [
        "# MSE loss\n",
        "\n",
        "# .numel() to get no. of elements\n",
        "def mse(t1, t2):\n",
        "    diff = t1 - t2\n",
        "    return torch.sum(diff * diff) / diff.numel()"
      ],
      "execution_count": null,
      "outputs": []
    },
    {
      "cell_type": "code",
      "metadata": {
        "colab": {
          "base_uri": "https://localhost:8080/"
        },
        "id": "ZOZtcycjCL4w",
        "outputId": "1601f802-b62e-4b3a-8923-313f0c126427"
      },
      "source": [
        "# Compute loss\n",
        "loss = mse(preds, targets)\n",
        "print(loss)"
      ],
      "execution_count": null,
      "outputs": [
        {
          "output_type": "stream",
          "text": [
            "tensor(65576.1562, grad_fn=<DivBackward0>)\n"
          ],
          "name": "stdout"
        }
      ]
    },
    {
      "cell_type": "markdown",
      "metadata": {
        "id": "sVuhfy39CxNk"
      },
      "source": [
        "## Compute Gradients"
      ]
    },
    {
      "cell_type": "code",
      "metadata": {
        "id": "8gKFYyzECPtj"
      },
      "source": [
        "loss.backward()"
      ],
      "execution_count": null,
      "outputs": []
    },
    {
      "cell_type": "code",
      "metadata": {
        "colab": {
          "base_uri": "https://localhost:8080/"
        },
        "id": "dktieV1rCVQ1",
        "outputId": "ef1c7526-0b06-4935-ca38-0a75ee208efc"
      },
      "source": [
        "# Gradients for weights\n",
        "print(w)\n",
        "print(w.grad)"
      ],
      "execution_count": null,
      "outputs": [
        {
          "output_type": "stream",
          "text": [
            "tensor([[-0.7207, -2.2588, -0.0666],\n",
            "        [ 1.2553, -0.7123, -0.4710]], requires_grad=True)\n",
            "tensor([[-27789.7598, -31572.0410, -19049.5391],\n",
            "        [ -5673.5513,  -8177.6069,  -4690.6924]])\n"
          ],
          "name": "stdout"
        }
      ]
    },
    {
      "cell_type": "code",
      "metadata": {
        "colab": {
          "base_uri": "https://localhost:8080/"
        },
        "id": "rmlAvf0oCexN",
        "outputId": "4b26736b-4fa0-4181-8c2d-7377c9a82e74"
      },
      "source": [
        "print(b)\n",
        "print(b.grad)"
      ],
      "execution_count": null,
      "outputs": [
        {
          "output_type": "stream",
          "text": [
            "tensor([ 0.5945, -0.3529], requires_grad=True)\n",
            "tensor([-333.4061,  -72.9994])\n"
          ],
          "name": "stdout"
        }
      ]
    },
    {
      "cell_type": "code",
      "metadata": {
        "colab": {
          "base_uri": "https://localhost:8080/"
        },
        "id": "MXdxcPUIDAMu",
        "outputId": "a1e3c2e0-b458-4aef-8fa1-c679ce775ea7"
      },
      "source": [
        "w.grad.zero_()\n",
        "b.grad.zero_()\n",
        "print(w.grad)\n",
        "print(b.grad)"
      ],
      "execution_count": null,
      "outputs": [
        {
          "output_type": "stream",
          "text": [
            "tensor([[0., 0., 0.],\n",
            "        [0., 0., 0.]])\n",
            "tensor([0., 0.])\n"
          ],
          "name": "stdout"
        }
      ]
    },
    {
      "cell_type": "markdown",
      "metadata": {
        "id": "-l5BCfVRD7FR"
      },
      "source": [
        "## Training the Model\n",
        "\n",
        "1. Generate predictions\n",
        "\n",
        "2. Calculate the loss\n",
        "\n",
        "3. Compute gradients w.r.t the weights and biases\n",
        "\n",
        "4. Adjust the weights by subtracting a small quantity proportional to the gradient\n",
        "\n",
        "5. Reset the gradients to zero"
      ]
    },
    {
      "cell_type": "code",
      "metadata": {
        "colab": {
          "base_uri": "https://localhost:8080/"
        },
        "id": "eabJDprvD1CZ",
        "outputId": "75efc3b7-393a-48ee-e9be-ab38e9f8beb0"
      },
      "source": [
        "# Generate predictions\n",
        "preds = model(inputs)\n",
        "print(preds)"
      ],
      "execution_count": null,
      "outputs": [
        {
          "output_type": "stream",
          "text": [
            "tensor([[-206.2175,   23.3082],\n",
            "        [-268.0228,   21.0542],\n",
            "        [-368.6463,  -13.9053],\n",
            "        [-172.5054,   79.6333],\n",
            "        [-270.6384,  -15.0873]], grad_fn=<AddBackward0>)\n"
          ],
          "name": "stdout"
        }
      ]
    },
    {
      "cell_type": "code",
      "metadata": {
        "colab": {
          "base_uri": "https://localhost:8080/"
        },
        "id": "tGFhx2DSEVrY",
        "outputId": "ac78192c-64e2-44bc-9ce7-917576c8fd08"
      },
      "source": [
        "# Calculate the loss\n",
        "loss = mse(preds, targets)\n",
        "print(loss)"
      ],
      "execution_count": null,
      "outputs": [
        {
          "output_type": "stream",
          "text": [
            "tensor(65576.1562, grad_fn=<DivBackward0>)\n"
          ],
          "name": "stdout"
        }
      ]
    },
    {
      "cell_type": "code",
      "metadata": {
        "colab": {
          "base_uri": "https://localhost:8080/"
        },
        "id": "sAmQcMzGEaHg",
        "outputId": "9c009806-35b4-442d-a2e4-88feced9e7a5"
      },
      "source": [
        "# Compute gradients\n",
        "loss.backward()\n",
        "print(w.grad)\n",
        "print(b.grad)"
      ],
      "execution_count": null,
      "outputs": [
        {
          "output_type": "stream",
          "text": [
            "tensor([[-27789.7598, -31572.0410, -19049.5391],\n",
            "        [ -5673.5513,  -8177.6069,  -4690.6924]])\n",
            "tensor([-333.4061,  -72.9994])\n"
          ],
          "name": "stdout"
        }
      ]
    },
    {
      "cell_type": "code",
      "metadata": {
        "id": "cWFyCnGCEccO"
      },
      "source": [
        "# Adjust weights & reset gradients\n",
        "with torch.no_grad():\n",
        "    w -= w.grad * 1e-5\n",
        "    b -= b.grad * 1e-5\n",
        "    w.grad.zero_()\n",
        "    b.grad.zero_()"
      ],
      "execution_count": null,
      "outputs": []
    },
    {
      "cell_type": "code",
      "metadata": {
        "colab": {
          "base_uri": "https://localhost:8080/"
        },
        "id": "xAESsxjaEhD9",
        "outputId": "ac9de90b-a05b-4a4c-b069-bf7a39ebf01e"
      },
      "source": [
        "print(w)\n",
        "print(b)"
      ],
      "execution_count": null,
      "outputs": [
        {
          "output_type": "stream",
          "text": [
            "tensor([[-0.4428, -1.9431,  0.1239],\n",
            "        [ 1.3121, -0.6305, -0.4241]], requires_grad=True)\n",
            "tensor([ 0.5978, -0.3522], requires_grad=True)\n"
          ],
          "name": "stdout"
        }
      ]
    },
    {
      "cell_type": "code",
      "metadata": {
        "colab": {
          "base_uri": "https://localhost:8080/"
        },
        "id": "MxJE4r5WElQ7",
        "outputId": "5db554b0-2504-40e1-944e-0430fe61ad1d"
      },
      "source": [
        "# Calculate loss\n",
        "preds = model(inputs)\n",
        "loss = mse(preds, targets)\n",
        "print(loss)"
      ],
      "execution_count": null,
      "outputs": [
        {
          "output_type": "stream",
          "text": [
            "tensor(45059.4922, grad_fn=<DivBackward0>)\n"
          ],
          "name": "stdout"
        }
      ]
    },
    {
      "cell_type": "markdown",
      "metadata": {
        "id": "yY7r-DZoFXMv"
      },
      "source": [
        "## Train for multiple epochs"
      ]
    },
    {
      "cell_type": "code",
      "metadata": {
        "id": "VvArTeAFEpDu"
      },
      "source": [
        "# Train for 100 epochs\n",
        "for i in range(100):\n",
        "    preds = model(inputs)\n",
        "    loss = mse(preds, targets)\n",
        "    loss.backward()\n",
        "    with torch.no_grad():\n",
        "        w -= w.grad * 1e-5\n",
        "        b -= b.grad * 1e-5\n",
        "        w.grad.zero_()\n",
        "        b.grad.zero_()"
      ],
      "execution_count": null,
      "outputs": []
    },
    {
      "cell_type": "code",
      "metadata": {
        "colab": {
          "base_uri": "https://localhost:8080/"
        },
        "id": "0zkIg9UlFahA",
        "outputId": "360e890e-0608-458c-e2dc-ca6a743e31f9"
      },
      "source": [
        "# Calculate loss\n",
        "preds = model(inputs)\n",
        "loss = mse(preds, targets)\n",
        "print(loss)"
      ],
      "execution_count": null,
      "outputs": [
        {
          "output_type": "stream",
          "text": [
            "tensor(254.5292, grad_fn=<DivBackward0>)\n"
          ],
          "name": "stdout"
        }
      ]
    },
    {
      "cell_type": "code",
      "metadata": {
        "colab": {
          "base_uri": "https://localhost:8080/"
        },
        "id": "WCDW9bw0Fght",
        "outputId": "bf92ddf8-3a14-47b5-8dbe-980c8ac08790"
      },
      "source": [
        "print(preds, targets)"
      ],
      "execution_count": null,
      "outputs": [
        {
          "output_type": "stream",
          "text": [
            "tensor([[ 60.9939,  75.9291],\n",
            "        [ 88.1113,  98.5773],\n",
            "        [ 99.1112, 128.6822],\n",
            "        [ 43.0803,  69.4329],\n",
            "        [ 99.4739,  96.5089]], grad_fn=<AddBackward0>) tensor([[ 56.,  70.],\n",
            "        [ 81., 101.],\n",
            "        [119., 133.],\n",
            "        [ 22.,  37.],\n",
            "        [103., 119.]])\n"
          ],
          "name": "stdout"
        }
      ]
    },
    {
      "cell_type": "markdown",
      "metadata": {
        "id": "nd7Rc27rGSLa"
      },
      "source": [
        "# Linear regression using PyTorch built-ins"
      ]
    },
    {
      "cell_type": "code",
      "metadata": {
        "id": "5QmGQvDvFnp9"
      },
      "source": [
        "import torch.nn as nn"
      ],
      "execution_count": null,
      "outputs": []
    },
    {
      "cell_type": "code",
      "metadata": {
        "id": "nxv-a4bAGc0j"
      },
      "source": [
        "# Input (temp, rainfall, humidity)\n",
        "inputs = np.array([[73, 67, 43], \n",
        "                   [91, 88, 64], \n",
        "                   [87, 134, 58], \n",
        "                   [102, 43, 37], \n",
        "                   [69, 96, 70], \n",
        "                   [74, 66, 43], \n",
        "                   [91, 87, 65], \n",
        "                   [88, 134, 59], \n",
        "                   [101, 44, 37], \n",
        "                   [68, 96, 71], \n",
        "                   [73, 66, 44], \n",
        "                   [92, 87, 64], \n",
        "                   [87, 135, 57], \n",
        "                   [103, 43, 36], \n",
        "                   [68, 97, 70]], \n",
        "                  dtype='float32')\n",
        "\n",
        "# Targets (apples, oranges)\n",
        "targets = np.array([[56, 70], \n",
        "                    [81, 101], \n",
        "                    [119, 133], \n",
        "                    [22, 37], \n",
        "                    [103, 119],\n",
        "                    [57, 69], \n",
        "                    [80, 102], \n",
        "                    [118, 132], \n",
        "                    [21, 38], \n",
        "                    [104, 118], \n",
        "                    [57, 69], \n",
        "                    [82, 100], \n",
        "                    [118, 134], \n",
        "                    [20, 38], \n",
        "                    [102, 120]], \n",
        "                   dtype='float32')\n",
        "\n",
        "inputs = torch.from_numpy(inputs)\n",
        "targets = torch.from_numpy(targets)"
      ],
      "execution_count": null,
      "outputs": []
    },
    {
      "cell_type": "markdown",
      "metadata": {
        "id": "_98K3xZGGrGS"
      },
      "source": [
        "## Dataset and DataLoader"
      ]
    },
    {
      "cell_type": "code",
      "metadata": {
        "id": "xjF4QFSmGk8b"
      },
      "source": [
        "from torch.utils.data import TensorDataset, DataLoader"
      ],
      "execution_count": null,
      "outputs": []
    },
    {
      "cell_type": "code",
      "metadata": {
        "colab": {
          "base_uri": "https://localhost:8080/"
        },
        "id": "3anb0erpGvRO",
        "outputId": "0f16cfa8-2ed1-4b73-a488-6f76cefdea08"
      },
      "source": [
        "# Define dataset\n",
        "train_ds = TensorDataset(inputs, targets)\n",
        "train_ds"
      ],
      "execution_count": null,
      "outputs": [
        {
          "output_type": "execute_result",
          "data": {
            "text/plain": [
              "<torch.utils.data.dataset.TensorDataset at 0x7f8377d35a50>"
            ]
          },
          "metadata": {
            "tags": []
          },
          "execution_count": 33
        }
      ]
    },
    {
      "cell_type": "code",
      "metadata": {
        "id": "3Ac4fATnGzUB"
      },
      "source": [
        "# Define data loader\n",
        "batch_size = 5\n",
        "train_dl = DataLoader(train_ds, batch_size, shuffle=True)"
      ],
      "execution_count": null,
      "outputs": []
    },
    {
      "cell_type": "code",
      "metadata": {
        "colab": {
          "base_uri": "https://localhost:8080/"
        },
        "id": "wVzpjfDpHAuO",
        "outputId": "5a929574-6280-467f-85d6-1eb73bbd3f22"
      },
      "source": [
        "for x, y in train_dl:\n",
        "    print(x)\n",
        "    print(y)\n",
        "    break"
      ],
      "execution_count": null,
      "outputs": [
        {
          "output_type": "stream",
          "text": [
            "tensor([[ 91.,  87.,  65.],\n",
            "        [ 87., 135.,  57.],\n",
            "        [ 68.,  96.,  71.],\n",
            "        [101.,  44.,  37.],\n",
            "        [ 73.,  67.,  43.]])\n",
            "tensor([[ 80., 102.],\n",
            "        [118., 134.],\n",
            "        [104., 118.],\n",
            "        [ 21.,  38.],\n",
            "        [ 56.,  70.]])\n"
          ],
          "name": "stdout"
        }
      ]
    },
    {
      "cell_type": "code",
      "metadata": {
        "colab": {
          "base_uri": "https://localhost:8080/"
        },
        "id": "BJ2fiuTCHGzf",
        "outputId": "0799b33d-cdfa-4483-811a-5650b04b9d24"
      },
      "source": [
        "train_ds[[1,2,3]]"
      ],
      "execution_count": null,
      "outputs": [
        {
          "output_type": "execute_result",
          "data": {
            "text/plain": [
              "(tensor([[ 91.,  88.,  64.],\n",
              "         [ 87., 134.,  58.],\n",
              "         [102.,  43.,  37.]]), tensor([[ 81., 101.],\n",
              "         [119., 133.],\n",
              "         [ 22.,  37.]]))"
            ]
          },
          "metadata": {
            "tags": []
          },
          "execution_count": 36
        }
      ]
    },
    {
      "cell_type": "markdown",
      "metadata": {
        "id": "jiQjUyn5IdST"
      },
      "source": [
        "## nn.Linear Module"
      ]
    },
    {
      "cell_type": "code",
      "metadata": {
        "colab": {
          "base_uri": "https://localhost:8080/"
        },
        "id": "zinDKLouHqVk",
        "outputId": "ba6d4c67-8f92-4cd4-d1a9-3f700af13cb7"
      },
      "source": [
        "# Define model\n",
        "\n",
        "# 3 inputs and 2 outputs\n",
        "model = nn.Linear(3, 2)\n",
        "print(model.weight)\n",
        "print(model.bias)"
      ],
      "execution_count": null,
      "outputs": [
        {
          "output_type": "stream",
          "text": [
            "Parameter containing:\n",
            "tensor([[-0.2697,  0.5268,  0.1700],\n",
            "        [-0.5241, -0.4857,  0.5195]], requires_grad=True)\n",
            "Parameter containing:\n",
            "tensor([ 0.3490, -0.4168], requires_grad=True)\n"
          ],
          "name": "stdout"
        }
      ]
    },
    {
      "cell_type": "code",
      "metadata": {
        "colab": {
          "base_uri": "https://localhost:8080/"
        },
        "id": "WDOhKTxRINQ0",
        "outputId": "4a072f70-300b-4077-d620-65a5de049958"
      },
      "source": [
        "# Parameters\n",
        "list(model.parameters())"
      ],
      "execution_count": null,
      "outputs": [
        {
          "output_type": "execute_result",
          "data": {
            "text/plain": [
              "[Parameter containing:\n",
              " tensor([[-0.2697,  0.5268,  0.1700],\n",
              "         [-0.5241, -0.4857,  0.5195]], requires_grad=True),\n",
              " Parameter containing:\n",
              " tensor([ 0.3490, -0.4168], requires_grad=True)]"
            ]
          },
          "metadata": {
            "tags": []
          },
          "execution_count": 38
        }
      ]
    },
    {
      "cell_type": "code",
      "metadata": {
        "colab": {
          "base_uri": "https://localhost:8080/"
        },
        "id": "a8rou65pIRyh",
        "outputId": "9c835cbe-7837-42a5-cd45-83fcdcccca4a"
      },
      "source": [
        "# Generate predictions\n",
        "preds = model(inputs)\n",
        "preds"
      ],
      "execution_count": null,
      "outputs": [
        {
          "output_type": "execute_result",
          "data": {
            "text/plain": [
              "tensor([[ 23.2636, -48.8858],\n",
              "        [ 33.0406, -57.6120],\n",
              "        [ 57.3306, -80.9762],\n",
              "        [  1.7804, -55.5445],\n",
              "        [ 44.2078, -46.8504],\n",
              "        [ 22.4671, -48.9242],\n",
              "        [ 32.6838, -56.6068],\n",
              "        [ 57.2309, -80.9809],\n",
              "        [  2.5768, -55.5061],\n",
              "        [ 44.6474, -45.8068],\n",
              "        [ 22.9068, -47.8806],\n",
              "        [ 32.2442, -57.6504],\n",
              "        [ 57.6874, -81.9814],\n",
              "        [  1.3407, -56.5880],\n",
              "        [ 45.0042, -46.8120]], grad_fn=<AddmmBackward>)"
            ]
          },
          "metadata": {
            "tags": []
          },
          "execution_count": 39
        }
      ]
    },
    {
      "cell_type": "markdown",
      "metadata": {
        "id": "sFKIhvD8Ikj0"
      },
      "source": [
        "## Loss Functions"
      ]
    },
    {
      "cell_type": "code",
      "metadata": {
        "id": "wN-Kw8n3IYsM"
      },
      "source": [
        "import torch.nn.functional as F"
      ],
      "execution_count": null,
      "outputs": []
    },
    {
      "cell_type": "code",
      "metadata": {
        "id": "EKT8LTHiIrZD"
      },
      "source": [
        "loss_fn = F.mse_loss"
      ],
      "execution_count": null,
      "outputs": []
    },
    {
      "cell_type": "code",
      "metadata": {
        "colab": {
          "base_uri": "https://localhost:8080/"
        },
        "id": "jCHlzjqMItsF",
        "outputId": "2862dd8e-cde8-4923-9c9c-5c07a6149f51"
      },
      "source": [
        "loss = loss_fn(model(inputs), targets)\n",
        "print(loss)"
      ],
      "execution_count": null,
      "outputs": [
        {
          "output_type": "stream",
          "text": [
            "tensor(13199.4033, grad_fn=<MseLossBackward>)\n"
          ],
          "name": "stdout"
        }
      ]
    },
    {
      "cell_type": "code",
      "metadata": {
        "id": "C1YW3dr0Ixij"
      },
      "source": [
        "?nn.Linear"
      ],
      "execution_count": null,
      "outputs": []
    },
    {
      "cell_type": "markdown",
      "metadata": {
        "id": "owyvW2CQJCR4"
      },
      "source": [
        "## Optimizer"
      ]
    },
    {
      "cell_type": "code",
      "metadata": {
        "id": "BqVpHu8RI7-B"
      },
      "source": [
        "opt = torch.optim.SGD(model.parameters(), lr=1e-5)"
      ],
      "execution_count": null,
      "outputs": []
    },
    {
      "cell_type": "code",
      "metadata": {
        "id": "Sou5PukLJFx-"
      },
      "source": [
        "# Utility function to train the model\n",
        "def fit(num_epochs, model, loss_fn, opt, train_dl):\n",
        "    \n",
        "    # Repeat for given number of epochs\n",
        "    for epoch in range(num_epochs):\n",
        "        \n",
        "        # Train with batches of data\n",
        "        for xb,yb in train_dl:\n",
        "            \n",
        "            # 1. Generate predictions\n",
        "            pred = model(xb)\n",
        "            \n",
        "            # 2. Calculate loss\n",
        "            loss = loss_fn(pred, yb)\n",
        "            \n",
        "            # 3. Compute gradients\n",
        "            loss.backward()\n",
        "            \n",
        "            # 4. Update parameters using gradients\n",
        "            opt.step()\n",
        "            \n",
        "            # 5. Reset the gradients to zero\n",
        "            opt.zero_grad()\n",
        "        \n",
        "        # Print the progress\n",
        "        if (epoch+1) % 10 == 0:\n",
        "            print('Epoch [{}/{}], Loss: {:.4f}'.format(epoch+1, num_epochs, loss.item()))"
      ],
      "execution_count": null,
      "outputs": []
    },
    {
      "cell_type": "code",
      "metadata": {
        "colab": {
          "base_uri": "https://localhost:8080/"
        },
        "id": "llHgiU6bJL7x",
        "outputId": "42f548bc-24b9-49ae-ac74-0794c9ad33b2"
      },
      "source": [
        "fit(100, model, loss_fn, opt, train_dl)"
      ],
      "execution_count": null,
      "outputs": [
        {
          "output_type": "stream",
          "text": [
            "Epoch [10/100], Loss: 303.2576\n",
            "Epoch [20/100], Loss: 154.5360\n",
            "Epoch [30/100], Loss: 86.4176\n",
            "Epoch [40/100], Loss: 46.0727\n",
            "Epoch [50/100], Loss: 36.1146\n",
            "Epoch [60/100], Loss: 10.6485\n",
            "Epoch [70/100], Loss: 30.9729\n",
            "Epoch [80/100], Loss: 12.0309\n",
            "Epoch [90/100], Loss: 13.8786\n",
            "Epoch [100/100], Loss: 11.5820\n"
          ],
          "name": "stdout"
        }
      ]
    },
    {
      "cell_type": "code",
      "metadata": {
        "colab": {
          "base_uri": "https://localhost:8080/"
        },
        "id": "VD3MfSfcJURX",
        "outputId": "a8f8bdad-0094-4e2d-d4db-d60751272b70"
      },
      "source": [
        "# Generate predictions\n",
        "preds = model(inputs)\n",
        "preds"
      ],
      "execution_count": null,
      "outputs": [
        {
          "output_type": "execute_result",
          "data": {
            "text/plain": [
              "tensor([[ 57.7637,  70.9912],\n",
              "        [ 80.4817, 102.0675],\n",
              "        [121.2221, 128.3032],\n",
              "        [ 24.3498,  41.7759],\n",
              "        [ 97.1122, 118.7369],\n",
              "        [ 56.5426,  70.0738],\n",
              "        [ 79.9959, 102.3894],\n",
              "        [121.3452, 129.0687],\n",
              "        [ 25.5710,  42.6933],\n",
              "        [ 97.8476, 119.9761],\n",
              "        [ 57.2779,  71.3131],\n",
              "        [ 79.2605, 101.1502],\n",
              "        [121.7079, 127.9813],\n",
              "        [ 23.6145,  40.5367],\n",
              "        [ 98.3334, 119.6542]], grad_fn=<AddmmBackward>)"
            ]
          },
          "metadata": {
            "tags": []
          },
          "execution_count": 47
        }
      ]
    },
    {
      "cell_type": "code",
      "metadata": {
        "colab": {
          "base_uri": "https://localhost:8080/"
        },
        "id": "qJ9rFWzPJeRg",
        "outputId": "369324d6-fb1d-4cbf-d653-d962bfc0cafd"
      },
      "source": [
        "model(torch.tensor([[75, 63, 44.]]))"
      ],
      "execution_count": null,
      "outputs": [
        {
          "output_type": "execute_result",
          "data": {
            "text/plain": [
              "tensor([[53.9205, 68.7979]], grad_fn=<AddmmBackward>)"
            ]
          },
          "metadata": {
            "tags": []
          },
          "execution_count": 48
        }
      ]
    },
    {
      "cell_type": "code",
      "metadata": {
        "id": "aPkQ-5UyJjtd"
      },
      "source": [
        ""
      ],
      "execution_count": null,
      "outputs": []
    }
  ]
}